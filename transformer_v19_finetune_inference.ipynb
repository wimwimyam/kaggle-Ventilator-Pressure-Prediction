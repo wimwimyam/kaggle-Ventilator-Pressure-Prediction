{
 "cells": [
  {
   "cell_type": "code",
   "execution_count": 1,
   "metadata": {
    "execution": {
     "iopub.execute_input": "2021-10-13T04:17:22.047222Z",
     "iopub.status.busy": "2021-10-13T04:17:22.046447Z",
     "iopub.status.idle": "2021-10-13T04:17:23.269684Z",
     "shell.execute_reply": "2021-10-13T04:17:23.269210Z",
     "shell.execute_reply.started": "2021-10-12T05:39:55.354395Z"
    },
    "executionInfo": {
     "elapsed": 2646,
     "status": "ok",
     "timestamp": 1633176713080,
     "user": {
      "displayName": "Pak Wing YAM",
      "photoUrl": "https://lh3.googleusercontent.com/a/default-user=s64",
      "userId": "01265674556408476665"
     },
     "user_tz": -480
    },
    "id": "vsRfljafuYSE",
    "papermill": {
     "duration": 1.246673,
     "end_time": "2021-10-13T04:17:23.269823",
     "exception": false,
     "start_time": "2021-10-13T04:17:22.023150",
     "status": "completed"
    },
    "tags": []
   },
   "outputs": [],
   "source": [
    "import os\n",
    "import time\n",
    "import math\n",
    "import random\n",
    "import numpy as np\n",
    "import pandas as pd\n",
    "import torch\n",
    "from torch import nn, einsum\n",
    "import torch.nn.functional as F\n",
    "import torch_optimizer as optim\n",
    "from torch.utils.data import TensorDataset,DataLoader\n",
    "from sklearn.metrics import mean_absolute_error\n",
    "from sklearn.model_selection import KFold, StratifiedKFold\n",
    "from sklearn.preprocessing import LabelEncoder\n",
    "from tqdm.auto import tqdm\n",
    "from einops import rearrange\n",
    "from einops.layers.torch import Rearrange"
   ]
  },
  {
   "cell_type": "code",
   "execution_count": 2,
   "metadata": {
    "execution": {
     "iopub.execute_input": "2021-10-13T04:17:23.310367Z",
     "iopub.status.busy": "2021-10-13T04:17:23.309536Z",
     "iopub.status.idle": "2021-10-13T04:17:23.311571Z",
     "shell.execute_reply": "2021-10-13T04:17:23.312113Z",
     "shell.execute_reply.started": "2021-10-12T05:39:56.704014Z"
    },
    "executionInfo": {
     "elapsed": 3,
     "status": "ok",
     "timestamp": 1633176713080,
     "user": {
      "displayName": "Pak Wing YAM",
      "photoUrl": "https://lh3.googleusercontent.com/a/default-user=s64",
      "userId": "01265674556408476665"
     },
     "user_tz": -480
    },
    "id": "cagWoXxKwV31",
    "papermill": {
     "duration": 0.023844,
     "end_time": "2021-10-13T04:17:23.312240",
     "exception": false,
     "start_time": "2021-10-13T04:17:23.288396",
     "status": "completed"
    },
    "tags": []
   },
   "outputs": [],
   "source": [
    "DEBUG = False"
   ]
  },
  {
   "cell_type": "code",
   "execution_count": 3,
   "metadata": {
    "execution": {
     "iopub.execute_input": "2021-10-13T04:17:23.350976Z",
     "iopub.status.busy": "2021-10-13T04:17:23.350429Z",
     "iopub.status.idle": "2021-10-13T04:17:23.352666Z",
     "shell.execute_reply": "2021-10-13T04:17:23.353093Z",
     "shell.execute_reply.started": "2021-10-12T05:39:56.712676Z"
    },
    "executionInfo": {
     "elapsed": 236,
     "status": "ok",
     "timestamp": 1633176713313,
     "user": {
      "displayName": "Pak Wing YAM",
      "photoUrl": "https://lh3.googleusercontent.com/a/default-user=s64",
      "userId": "01265674556408476665"
     },
     "user_tz": -480
    },
    "id": "9VBtJTT0uo22",
    "papermill": {
     "duration": 0.023661,
     "end_time": "2021-10-13T04:17:23.353210",
     "exception": false,
     "start_time": "2021-10-13T04:17:23.329549",
     "status": "completed"
    },
    "tags": []
   },
   "outputs": [],
   "source": [
    "MODEL_NAME = 'transformer_v19'\n",
    "base_dir = \"./\"\n",
    "if not os.path.exists(f'models/{MODEL_NAME}'):\n",
    "    os.makedirs(f'models/{MODEL_NAME}')"
   ]
  },
  {
   "cell_type": "code",
   "execution_count": 4,
   "metadata": {
    "execution": {
     "iopub.execute_input": "2021-10-13T04:17:23.392557Z",
     "iopub.status.busy": "2021-10-13T04:17:23.392066Z",
     "iopub.status.idle": "2021-10-13T04:17:35.818002Z",
     "shell.execute_reply": "2021-10-13T04:17:35.818695Z",
     "shell.execute_reply.started": "2021-10-12T05:39:56.724572Z"
    },
    "executionInfo": {
     "elapsed": 9971,
     "status": "ok",
     "timestamp": 1633176723595,
     "user": {
      "displayName": "Pak Wing YAM",
      "photoUrl": "https://lh3.googleusercontent.com/a/default-user=s64",
      "userId": "01265674556408476665"
     },
     "user_tz": -480
    },
    "id": "kLXYOgoeuvy6",
    "papermill": {
     "duration": 12.448382,
     "end_time": "2021-10-13T04:17:35.818990",
     "exception": false,
     "start_time": "2021-10-13T04:17:23.370608",
     "status": "completed"
    },
    "tags": []
   },
   "outputs": [],
   "source": [
    "train_df = pd.read_csv(base_dir + 'train.csv')\n",
    "test_df = pd.read_csv(base_dir + 'test.csv')"
   ]
  },
  {
   "cell_type": "code",
   "execution_count": 5,
   "metadata": {
    "execution": {
     "iopub.execute_input": "2021-10-13T04:17:35.874558Z",
     "iopub.status.busy": "2021-10-13T04:17:35.873440Z",
     "iopub.status.idle": "2021-10-13T04:17:36.550713Z",
     "shell.execute_reply": "2021-10-13T04:17:36.550223Z",
     "shell.execute_reply.started": "2021-10-12T05:40:08.547318Z"
    },
    "papermill": {
     "duration": 0.705919,
     "end_time": "2021-10-13T04:17:36.550858",
     "exception": false,
     "start_time": "2021-10-13T04:17:35.844939",
     "status": "completed"
    },
    "scrolled": true,
    "tags": []
   },
   "outputs": [],
   "source": [
    "le = LabelEncoder()\n",
    "train_df['pressure'] = le.fit_transform(train_df['pressure'])"
   ]
  },
  {
   "cell_type": "code",
   "execution_count": 6,
   "metadata": {
    "execution": {
     "iopub.execute_input": "2021-10-13T04:17:42.924598Z",
     "iopub.status.busy": "2021-10-13T04:17:42.924002Z",
     "iopub.status.idle": "2021-10-13T04:18:03.293805Z",
     "shell.execute_reply": "2021-10-13T04:18:03.294610Z",
     "shell.execute_reply.started": "2021-10-12T05:40:09.33342Z"
    },
    "executionInfo": {
     "elapsed": 15912,
     "status": "ok",
     "timestamp": 1633176739504,
     "user": {
      "displayName": "Pak Wing YAM",
      "photoUrl": "https://lh3.googleusercontent.com/a/default-user=s64",
      "userId": "01265674556408476665"
     },
     "user_tz": -480
    },
    "id": "OhZfYGCOu7jn",
    "papermill": {
     "duration": 26.726301,
     "end_time": "2021-10-13T04:18:03.294787",
     "exception": false,
     "start_time": "2021-10-13T04:17:36.568486",
     "status": "completed"
    },
    "tags": []
   },
   "outputs": [],
   "source": [
    "train_df['RC'] = (train_df['R'].astype(str) + '_' + train_df['C'].astype(str))\n",
    "train_df['RC'] = train_df['RC'].map({'20_50':0, '20_20':1, '50_20':2, '50_50':3, '5_50':4, '5_20':5, '50_10':6, '20_10':7, '5_10':8})\n",
    "test_df['RC'] = (test_df['R'].astype(str) + '_' + test_df['C'].astype(str))\n",
    "test_df['RC'] = test_df['RC'].map({'20_50':0, '20_20':1, '50_20':2, '50_50':3, '5_50':4, '5_20':5, '50_10':6, '20_10':7, '5_10':8})\n",
    "# train_df['u_in_cat'] = train_df['u_in'].round().astype(int)\n",
    "# test_df['u_in_cat'] = test_df['u_in'].round().astype(int)\n",
    "train_df['u_in_0'] = (train_df['u_in'].round() == 0).astype(int)\n",
    "test_df['u_in_0'] = (test_df['u_in'].round() == 0).astype(int)\n",
    "train_df['u_in_5'] = (train_df['u_in'].round() == 5).astype(int)\n",
    "test_df['u_in_5'] = (test_df['u_in'].round() == 5).astype(int)"
   ]
  },
  {
   "cell_type": "code",
   "execution_count": 7,
   "metadata": {
    "execution": {
     "iopub.execute_input": "2021-10-13T04:18:03.336517Z",
     "iopub.status.busy": "2021-10-13T04:18:03.335256Z",
     "iopub.status.idle": "2021-10-13T04:18:03.337238Z",
     "shell.execute_reply": "2021-10-13T04:18:03.337640Z",
     "shell.execute_reply.started": "2021-10-12T05:40:37.32064Z"
    },
    "executionInfo": {
     "elapsed": 5,
     "status": "ok",
     "timestamp": 1633176739505,
     "user": {
      "displayName": "Pak Wing YAM",
      "photoUrl": "https://lh3.googleusercontent.com/a/default-user=s64",
      "userId": "01265674556408476665"
     },
     "user_tz": -480
    },
    "id": "WNXjM1WqtWSf",
    "papermill": {
     "duration": 0.024169,
     "end_time": "2021-10-13T04:18:03.337764",
     "exception": false,
     "start_time": "2021-10-13T04:18:03.313595",
     "status": "completed"
    },
    "scrolled": true,
    "tags": []
   },
   "outputs": [],
   "source": [
    "from sklearn.preprocessing import RobustScaler, StandardScaler\n",
    "RS = StandardScaler()\n",
    "all_df = pd.concat([train_df,test_df])\n",
    "train_df['u_in'] = np.log1p(train_df['u_in'] - all_df['u_in'].min())\n",
    "test_df['u_in'] = np.log1p(test_df['u_in'] - all_df['u_in'].min())\n",
    "all_df['u_in'] = np.log1p(all_df['u_in'] - all_df['u_in'].min())\n",
    "\n",
    "RS.fit(all_df[['u_in','time_step']])\n",
    "train_df[['u_in','time_step']] = RS.transform(train_df[['u_in','time_step']])\n",
    "test_df[['u_in','time_step']] = RS.transform(test_df[['u_in','time_step']])\n",
    "\n",
    "# from sklearn.preprocessing import RobustScaler, StandardScaler\n",
    "# RS = StandardScaler()\n",
    "# all_df = pd.concat([train_df,test_df])\n",
    "# RS.fit(all_df[['u_in','time_step']])\n",
    "# train_df[['u_in','time_step']] = RS.transform(train_df[['u_in','time_step']])\n",
    "# test_df[['u_in','time_step']] = RS.transform(test_df[['u_in','time_step']])"
   ]
  },
  {
   "cell_type": "code",
   "execution_count": 8,
   "metadata": {
    "execution": {
     "iopub.execute_input": "2021-10-13T04:18:09.991081Z",
     "iopub.status.busy": "2021-10-13T04:18:09.989870Z",
     "iopub.status.idle": "2021-10-13T04:18:10.177419Z",
     "shell.execute_reply": "2021-10-13T04:18:10.176927Z",
     "shell.execute_reply.started": "2021-10-12T05:40:43.444726Z"
    },
    "executionInfo": {
     "elapsed": 3,
     "status": "ok",
     "timestamp": 1633176742914,
     "user": {
      "displayName": "Pak Wing YAM",
      "photoUrl": "https://lh3.googleusercontent.com/a/default-user=s64",
      "userId": "01265674556408476665"
     },
     "user_tz": -480
    },
    "id": "ahQ_qNl6wYf7",
    "papermill": {
     "duration": 0.288427,
     "end_time": "2021-10-13T04:18:10.177548",
     "exception": false,
     "start_time": "2021-10-13T04:18:09.889121",
     "status": "completed"
    },
    "tags": []
   },
   "outputs": [],
   "source": [
    "X_tr = train_df[['RC','u_in','u_out','u_in_0','u_in_5','time_step']].values.reshape(-1,80,6)\n",
    "X_test = test_df[['RC','u_in','u_out','u_in_0','u_in_5','time_step']].values.reshape(-1,80,6)\n",
    "# X_tr = train_df[features].values.reshape(-1,80,18)\n",
    "# X_test = test_df[features].values.reshape(-1,80,18)"
   ]
  },
  {
   "cell_type": "code",
   "execution_count": 9,
   "metadata": {
    "execution": {
     "iopub.execute_input": "2021-10-13T04:18:10.215778Z",
     "iopub.status.busy": "2021-10-13T04:18:10.215249Z",
     "iopub.status.idle": "2021-10-13T04:18:10.218888Z",
     "shell.execute_reply": "2021-10-13T04:18:10.218459Z",
     "shell.execute_reply.started": "2021-10-12T05:40:43.782967Z"
    },
    "executionInfo": {
     "elapsed": 4,
     "status": "ok",
     "timestamp": 1633176743344,
     "user": {
      "displayName": "Pak Wing YAM",
      "photoUrl": "https://lh3.googleusercontent.com/a/default-user=s64",
      "userId": "01265674556408476665"
     },
     "user_tz": -480
    },
    "id": "am4C6rtTwxcU",
    "papermill": {
     "duration": 0.024291,
     "end_time": "2021-10-13T04:18:10.219004",
     "exception": false,
     "start_time": "2021-10-13T04:18:10.194713",
     "status": "completed"
    },
    "tags": []
   },
   "outputs": [],
   "source": [
    "y_tr = train_df['pressure'].values.reshape(-1,80)"
   ]
  },
  {
   "cell_type": "code",
   "execution_count": 10,
   "metadata": {
    "execution": {
     "iopub.execute_input": "2021-10-13T04:18:10.259036Z",
     "iopub.status.busy": "2021-10-13T04:18:10.258276Z",
     "iopub.status.idle": "2021-10-13T04:18:10.261260Z",
     "shell.execute_reply": "2021-10-13T04:18:10.261648Z",
     "shell.execute_reply.started": "2021-10-12T05:40:43.799012Z"
    },
    "executionInfo": {
     "elapsed": 5,
     "status": "ok",
     "timestamp": 1633176743345,
     "user": {
      "displayName": "Pak Wing YAM",
      "photoUrl": "https://lh3.googleusercontent.com/a/default-user=s64",
      "userId": "01265674556408476665"
     },
     "user_tz": -480
    },
    "id": "mBJplxgVzR3Z",
    "outputId": "f65abfaa-6083-4682-9027-09b75a68e97d",
    "papermill": {
     "duration": 0.025961,
     "end_time": "2021-10-13T04:18:10.261757",
     "exception": false,
     "start_time": "2021-10-13T04:18:10.235796",
     "status": "completed"
    },
    "tags": []
   },
   "outputs": [
    {
     "data": {
      "text/plain": [
       "((75450, 80, 6), (50300, 80, 6), (75450, 80))"
      ]
     },
     "execution_count": 10,
     "metadata": {},
     "output_type": "execute_result"
    }
   ],
   "source": [
    "X_tr.shape,X_test.shape,y_tr.shape"
   ]
  },
  {
   "cell_type": "code",
   "execution_count": 11,
   "metadata": {
    "execution": {
     "iopub.execute_input": "2021-10-13T04:18:10.299977Z",
     "iopub.status.busy": "2021-10-13T04:18:10.299375Z",
     "iopub.status.idle": "2021-10-13T04:18:10.302105Z",
     "shell.execute_reply": "2021-10-13T04:18:10.301680Z",
     "shell.execute_reply.started": "2021-10-12T05:40:43.819363Z"
    },
    "executionInfo": {
     "elapsed": 4,
     "status": "ok",
     "timestamp": 1633176743345,
     "user": {
      "displayName": "Pak Wing YAM",
      "photoUrl": "https://lh3.googleusercontent.com/a/default-user=s64",
      "userId": "01265674556408476665"
     },
     "user_tz": -480
    },
    "id": "n0ncwyMZwYUs",
    "papermill": {
     "duration": 0.023285,
     "end_time": "2021-10-13T04:18:10.302209",
     "exception": false,
     "start_time": "2021-10-13T04:18:10.278924",
     "status": "completed"
    },
    "tags": []
   },
   "outputs": [],
   "source": [
    "if DEBUG:\n",
    "    X_tr = X_tr[:1000]\n",
    "    y_tr = y_tr[:1000]\n",
    "    X_test = X_test[:1000]"
   ]
  },
  {
   "cell_type": "code",
   "execution_count": 12,
   "metadata": {
    "execution": {
     "iopub.execute_input": "2021-10-13T04:18:10.352282Z",
     "iopub.status.busy": "2021-10-13T04:18:10.351510Z",
     "iopub.status.idle": "2021-10-13T04:18:10.353809Z",
     "shell.execute_reply": "2021-10-13T04:18:10.353418Z",
     "shell.execute_reply.started": "2021-10-12T05:49:50.818657Z"
    },
    "executionInfo": {
     "elapsed": 4,
     "status": "ok",
     "timestamp": 1633176743345,
     "user": {
      "displayName": "Pak Wing YAM",
      "photoUrl": "https://lh3.googleusercontent.com/a/default-user=s64",
      "userId": "01265674556408476665"
     },
     "user_tz": -480
    },
    "id": "KPHlkF2WcG-S",
    "papermill": {
     "duration": 0.034617,
     "end_time": "2021-10-13T04:18:10.353908",
     "exception": false,
     "start_time": "2021-10-13T04:18:10.319291",
     "status": "completed"
    },
    "tags": []
   },
   "outputs": [],
   "source": [
    "def train_one_epoch(model, optimizer, train_dataloader, epoch, device = torch.device('cpu')):\n",
    "    model.eval()\n",
    "    MA_loss = 0\n",
    "    count = 0\n",
    "    for X,y in train_dataloader:\n",
    "        X = X.to(device)\n",
    "        y = y.to(device)\n",
    "        y = F.one_hot(y,950).float()\n",
    "        y[:,:,:-1] += 0.1 * y[:,:,1:]\n",
    "        y[:,:,1:] += 0.1 * y[:,:,:-1]\n",
    "        y[y==1] = 0.8\n",
    "        \n",
    "        optimizer.zero_grad()\n",
    "        mask1 = X[:,:,2] == 0\n",
    "        mask2 = X[:,:,2] == 1\n",
    "        pred = model(X)\n",
    "\n",
    "        pred = torch.sigmoid(pred[mask1].reshape(-1,950))\n",
    "        y = y[mask1].reshape(-1,950)\n",
    "\n",
    "        loss = -torch.sum(y * torch.log(1e-8 + pred) + (1-y) * torch.log(1 - pred + 1e-8),dim=-1).mean()\n",
    "        loss.backward()\n",
    "        optimizer.step()\n",
    "        \n",
    "        MA_loss += loss.item() * len(y)\n",
    "        count += len(y)\n",
    "    MA_loss /= count\n",
    "    return MA_loss\n",
    "\n",
    "def evaluation(model, val_dataloader, device = torch.device('cpu')):\n",
    "    model.eval()\n",
    "    criterion = nn.L1Loss()\n",
    "    MA_loss = 0\n",
    "    count = 0\n",
    "    with torch.no_grad():\n",
    "        for X,y in val_dataloader:\n",
    "            X = X.to(device)\n",
    "            y = y.to(device)\n",
    "            mask = X[:,:,2] == 0\n",
    "            pred = model(X)\n",
    "            pred = torch.argmax(pred,dim=-1)\n",
    "            pred = pred[mask].reshape(-1).cpu().numpy()\n",
    "            pred = torch.Tensor(le.inverse_transform(pred)).to(device)\n",
    "            y = y[mask].reshape(-1).cpu().long().numpy()\n",
    "            y = torch.Tensor(le.inverse_transform(y)).to(device)\n",
    "            loss = criterion(pred, y)\n",
    "            # loss = criterion(pred.reshape(-1), y.reshape(-1))\n",
    "            MA_loss += loss.item() * len(y)\n",
    "            count += len(y)\n",
    "        MA_loss /= count\n",
    "    return MA_loss\n",
    "\n",
    "def inference(model, test_dataloader, device = torch.device('cpu'), istest = False):\n",
    "    model.eval()\n",
    "    prediction = []\n",
    "    with torch.no_grad():\n",
    "        if istest:\n",
    "            for X in test_dataloader:\n",
    "                X = X[0]\n",
    "                X = X.to(device)\n",
    "                pred = model(X).cpu()\n",
    "#                 pred = torch.argmax(pred,dim=-1)\n",
    "                prediction.append(pred.half())\n",
    "        else:\n",
    "            for X, y in test_dataloader:\n",
    "                X = X.to(device)\n",
    "                pred = model(X).cpu()\n",
    "                pred = torch.argmax(pred,dim=-1)\n",
    "                prediction.append(pred)\n",
    "    prediction = torch.cat(prediction,dim=0).numpy()\n",
    "    if istest == False:\n",
    "        prediction = le.inverse_transform(prediction.reshape(-1)).reshape(prediction.shape)\n",
    "    return prediction"
   ]
  },
  {
   "cell_type": "code",
   "execution_count": 13,
   "metadata": {
    "execution": {
     "iopub.execute_input": "2021-10-13T04:18:10.396705Z",
     "iopub.status.busy": "2021-10-13T04:18:10.395885Z",
     "iopub.status.idle": "2021-10-13T04:18:10.408552Z",
     "shell.execute_reply": "2021-10-13T04:18:10.408977Z",
     "shell.execute_reply.started": "2021-10-12T05:49:51.173858Z"
    },
    "executionInfo": {
     "elapsed": 408,
     "status": "ok",
     "timestamp": 1633176743750,
     "user": {
      "displayName": "Pak Wing YAM",
      "photoUrl": "https://lh3.googleusercontent.com/a/default-user=s64",
      "userId": "01265674556408476665"
     },
     "user_tz": -480
    },
    "id": "Up4IIaxk6onI",
    "papermill": {
     "duration": 0.037697,
     "end_time": "2021-10-13T04:18:10.409090",
     "exception": false,
     "start_time": "2021-10-13T04:18:10.371393",
     "status": "completed"
    },
    "tags": []
   },
   "outputs": [],
   "source": [
    "import torch\n",
    "from torch import nn, einsum\n",
    "import torch.nn.functional as F\n",
    "\n",
    "from einops import rearrange\n",
    "from einops.layers.torch import Rearrange\n",
    "\n",
    "# helper functions\n",
    "\n",
    "def exists(val):\n",
    "    return val is not None\n",
    "\n",
    "def default(val, d):\n",
    "    return val if exists(val) else d\n",
    "\n",
    "def calc_same_padding(kernel_size):\n",
    "    pad = kernel_size // 2\n",
    "    return (pad, pad - (kernel_size + 1) % 2)\n",
    "\n",
    "# helper classes\n",
    "\n",
    "class Swish(nn.Module):\n",
    "    def forward(self, x):\n",
    "        return x * x.sigmoid()\n",
    "\n",
    "class GLU(nn.Module):\n",
    "    def __init__(self, dim):\n",
    "        super().__init__()\n",
    "        self.dim = dim\n",
    "\n",
    "    def forward(self, x):\n",
    "        out, gate = x.chunk(2, dim=self.dim)\n",
    "        return out * gate.sigmoid()\n",
    "\n",
    "class DepthWiseConv1d(nn.Module):\n",
    "    def __init__(self, chan_in, chan_out, kernel_size, padding):\n",
    "        super().__init__()\n",
    "        self.padding = padding\n",
    "        self.conv = nn.Conv1d(chan_in, chan_out, kernel_size, groups = chan_in)\n",
    "\n",
    "    def forward(self, x):\n",
    "        x = F.pad(x, self.padding)\n",
    "        return self.conv(x)\n",
    "\n",
    "# attention, feedforward, and conv module\n",
    "\n",
    "class Scale(nn.Module):\n",
    "    def __init__(self, scale, fn):\n",
    "        super().__init__()\n",
    "        self.fn = fn\n",
    "        self.scale = scale\n",
    "\n",
    "    def forward(self, x, **kwargs):\n",
    "        return self.fn(x, **kwargs) * self.scale\n",
    "\n",
    "class PreNorm(nn.Module):\n",
    "    def __init__(self, dim, fn):\n",
    "        super().__init__()\n",
    "        self.fn = fn\n",
    "        self.norm = nn.LayerNorm(dim)\n",
    "\n",
    "    def forward(self, x, **kwargs):\n",
    "        x = self.norm(x)\n",
    "        return self.fn(x, **kwargs)\n",
    "\n",
    "class FeedForward(nn.Module):\n",
    "    def __init__(\n",
    "        self,\n",
    "        dim,\n",
    "        mult = 4,\n",
    "        dropout = 0.\n",
    "    ):\n",
    "        super().__init__()\n",
    "        self.net = nn.Sequential(\n",
    "            nn.Linear(dim, dim * mult),\n",
    "            nn.GELU(),\n",
    "            nn.Dropout(dropout),\n",
    "            nn.Linear(dim * mult, dim),\n",
    "            nn.Dropout(dropout)\n",
    "        )\n",
    "\n",
    "    def forward(self, x):\n",
    "        return self.net(x)\n",
    "\n",
    "class ConformerConvModule(nn.Module):\n",
    "    def __init__(\n",
    "        self,\n",
    "        dim,\n",
    "        causal = False,\n",
    "        expansion_factor = 2,\n",
    "        kernel_size = 31,\n",
    "        dropout = 0.):\n",
    "        super().__init__()\n",
    "\n",
    "        inner_dim = dim * expansion_factor\n",
    "        padding = calc_same_padding(kernel_size) if not causal else (kernel_size - 1, 0)\n",
    "\n",
    "        self.net = nn.Sequential(\n",
    "            nn.LayerNorm(dim),\n",
    "            Rearrange('b n c -> b c n'),\n",
    "            nn.Conv1d(dim, inner_dim * 2, 1),\n",
    "            GLU(dim=1),\n",
    "            DepthWiseConv1d(inner_dim, inner_dim, kernel_size = kernel_size, padding = padding),\n",
    "            nn.BatchNorm1d(inner_dim) if not causal else nn.Identity(),\n",
    "            Swish(),\n",
    "            nn.Conv1d(inner_dim, dim, 1),\n",
    "            Rearrange('b c n -> b n c'),\n",
    "            nn.Dropout(dropout)\n",
    "        )\n",
    "\n",
    "    def forward(self, x):\n",
    "        return self.net(x)"
   ]
  },
  {
   "cell_type": "code",
   "execution_count": 14,
   "metadata": {
    "execution": {
     "iopub.execute_input": "2021-10-13T04:18:10.446377Z",
     "iopub.status.busy": "2021-10-13T04:18:10.445524Z",
     "iopub.status.idle": "2021-10-13T04:18:10.465735Z",
     "shell.execute_reply": "2021-10-13T04:18:10.466163Z",
     "shell.execute_reply.started": "2021-10-12T05:49:51.626554Z"
    },
    "executionInfo": {
     "elapsed": 4,
     "status": "ok",
     "timestamp": 1633176743750,
     "user": {
      "displayName": "Pak Wing YAM",
      "photoUrl": "https://lh3.googleusercontent.com/a/default-user=s64",
      "userId": "01265674556408476665"
     },
     "user_tz": -480
    },
    "id": "oDGYzzf44rRS",
    "papermill": {
     "duration": 0.04015,
     "end_time": "2021-10-13T04:18:10.466275",
     "exception": false,
     "start_time": "2021-10-13T04:18:10.426125",
     "status": "completed"
    },
    "tags": []
   },
   "outputs": [],
   "source": [
    "class CustomAttention(nn.Module):\n",
    "    def __init__(\n",
    "        self,\n",
    "        dim,\n",
    "        heads = 8,\n",
    "        dim_head = 64,\n",
    "        dropout = 0.,\n",
    "        max_pos_emb = 512,\n",
    "        causal = False\n",
    "    ):\n",
    "        super().__init__()\n",
    "        inner_dim = dim_head * heads\n",
    "        self.heads= heads\n",
    "        self.scale = dim_head ** -0.5\n",
    "        self.to_q = nn.Linear(dim, inner_dim, bias = False)\n",
    "        self.to_kv = nn.Linear(dim, inner_dim * 2, bias = False)\n",
    "        self.to_out = nn.Linear(inner_dim, dim)\n",
    "\n",
    "        self.max_pos_emb = max_pos_emb\n",
    "        # self.rel_pos_emb1 = nn.Linear(1, heads, bias=False)\n",
    "        # self.rel_pos_emb2 = nn.Linear(1, heads, bias=False)\n",
    "        self.rel_pos_emb = nn.Sequential(nn.Linear(1, dim_head),nn.GELU(),nn.Linear(dim_head, dim_head))\n",
    "        self.dropout = nn.Dropout(dropout)\n",
    "\n",
    "        self.causal = causal\n",
    "\n",
    "    def forward(self, x, position, context = None, mask = None, context_mask = None):\n",
    "        n, device, h, max_pos_emb, has_context = x.shape[-2], x.device, self.heads, self.max_pos_emb, exists(context)\n",
    "        context = default(context, x)\n",
    "\n",
    "        q, k, v = (self.to_q(x), *self.to_kv(context).chunk(2, dim = -1))\n",
    "        q, k, v = map(lambda t: rearrange(t, 'b n (h d) -> b h n d', h = h), (q, k, v))\n",
    "\n",
    "        dots = einsum('b h i d, b h j d -> b h i j', q, k) * self.scale\n",
    "\n",
    "        # shaw's relative positional embedding\n",
    "        dist = rearrange(position, 'b i -> b i () ()') - rearrange(position, 'b j -> b () j ()')\n",
    "        # rel_pos_emb = self.rel_pos_emb1(F.relu(dist)) + self.rel_pos_emb2(F.relu(-dist))   #(bijh)\n",
    "        # pos_attn = rel_pos_emb.permute(0,3,1,2)\n",
    "        rel_pos_emb = self.rel_pos_emb(dist)\n",
    "        pos_attn = einsum('b h n d, b n r d -> b h n r', q, rel_pos_emb) * self.scale\n",
    "        dots = dots + pos_attn\n",
    "\n",
    "        if exists(mask) or exists(context_mask):\n",
    "            mask = default(mask, lambda: torch.ones(*x.shape[:2], device = device))\n",
    "            context_mask = default(context_mask, mask) if not has_context else default(context_mask, lambda: torch.ones(*context.shape[:2], device = device))\n",
    "            mask_value = -torch.finfo(dots.dtype).max\n",
    "            mask = rearrange(mask, 'b i -> b () i ()') * rearrange(context_mask, 'b j -> b () () j')\n",
    "            dots.masked_fill_(~mask, mask_value)\n",
    "\n",
    "        if self.causal:\n",
    "            mask = torch.tril(torch.ones(dots.shape[-2:],device=dots.device)).T\n",
    "            mask = rearrange(mask, 'n r -> () () n r')\n",
    "            dots = dots - mask * 999\n",
    "\n",
    "        attn = dots.softmax(dim = -1)\n",
    "\n",
    "        out = einsum('b h i j, b h j d -> b h i d', attn, v)\n",
    "        out = rearrange(out, 'b h n d -> b n (h d)')\n",
    "        out = self.to_out(out)\n",
    "        return self.dropout(out)\n",
    "\n",
    "\n",
    "class CustomConformerBlock(nn.Module):\n",
    "    def __init__(\n",
    "        self,\n",
    "        *,\n",
    "        dim,\n",
    "        dim_head = 64,\n",
    "        heads = 8,\n",
    "        ff_mult = 4,\n",
    "        conv_expansion_factor = 2,\n",
    "        conv_kernel_size = 31,\n",
    "        attn_dropout = 0.,\n",
    "        ff_dropout = 0.,\n",
    "        conv_dropout = 0.,\n",
    "        causal = False\n",
    "    ):\n",
    "        super().__init__()\n",
    "        self.ff1 = FeedForward(dim = dim, mult = ff_mult, dropout = ff_dropout)\n",
    "        self.attn = CustomAttention(dim = dim, dim_head = dim_head, heads = heads, dropout = attn_dropout, causal = causal)\n",
    "        self.conv = ConformerConvModule(dim = dim, causal = causal, expansion_factor = conv_expansion_factor, kernel_size = conv_kernel_size, dropout = conv_dropout)\n",
    "        self.ff2 = FeedForward(dim = dim, mult = ff_mult, dropout = ff_dropout)\n",
    "\n",
    "        self.attn = PreNorm(dim, self.attn)\n",
    "        self.ff1 = Scale(0.5, PreNorm(dim, self.ff1))\n",
    "        self.ff2 = Scale(0.5, PreNorm(dim, self.ff2))\n",
    "\n",
    "    def forward(self, x, pos, mask = None):\n",
    "        x = self.ff1(x) + x\n",
    "        x = self.attn(x, position = pos, mask = mask) + x\n",
    "        x = self.conv(x) + x\n",
    "        x = self.ff2(x) + x\n",
    "        return x"
   ]
  },
  {
   "cell_type": "code",
   "execution_count": 15,
   "metadata": {
    "execution": {
     "iopub.execute_input": "2021-10-13T04:18:10.514157Z",
     "iopub.status.busy": "2021-10-13T04:18:10.513366Z",
     "iopub.status.idle": "2021-10-13T04:18:10.515694Z",
     "shell.execute_reply": "2021-10-13T04:18:10.515287Z",
     "shell.execute_reply.started": "2021-10-12T05:49:51.952469Z"
    },
    "executionInfo": {
     "elapsed": 3,
     "status": "ok",
     "timestamp": 1633176743750,
     "user": {
      "displayName": "Pak Wing YAM",
      "photoUrl": "https://lh3.googleusercontent.com/a/default-user=s64",
      "userId": "01265674556408476665"
     },
     "user_tz": -480
    },
    "id": "yoWvAtiNcHBm",
    "papermill": {
     "duration": 0.032424,
     "end_time": "2021-10-13T04:18:10.515800",
     "exception": false,
     "start_time": "2021-10-13T04:18:10.483376",
     "status": "completed"
    },
    "tags": []
   },
   "outputs": [],
   "source": [
    "class PositionalEncoding(nn.Module):\n",
    "\n",
    "    def __init__(self, d_model, max_len = 5000):\n",
    "        super().__init__()\n",
    "        position = torch.arange(max_len).unsqueeze(1)\n",
    "        div_term = torch.exp(torch.arange(0, d_model, 2) * (-math.log(10000.0) / d_model))\n",
    "        pe = torch.zeros(1, max_len, d_model)\n",
    "        pe[0, :, 0::2] = torch.sin(position * div_term)\n",
    "        pe[0, :, 1::2] = torch.cos(position * div_term)\n",
    "        self.register_buffer('pe', pe)\n",
    "\n",
    "    def forward(self):\n",
    "        return self.pe\n",
    "\n",
    "class BrainModel(nn.Module):\n",
    "    def __init__(self):\n",
    "        super().__init__()\n",
    "        DIM = 256\n",
    "        n_layers = 4\n",
    "        self.input_layer = nn.Sequential(nn.Linear(5,DIM),nn.Mish(),nn.Linear(DIM,DIM),nn.Mish())\n",
    "        self.emb_RC = nn.Embedding(9,DIM)\n",
    "        self.emb_u_in = nn.Embedding(101,DIM)\n",
    "        self.scale_layer = nn.Linear(2*DIM,DIM)\n",
    "        self.encoder = nn.ModuleList()\n",
    "        for i in range(n_layers):\n",
    "            self.encoder.append(CustomConformerBlock(dim = DIM,\n",
    "                          dim_head = DIM//8,\n",
    "                          heads = 8,\n",
    "                          ff_mult = 4,\n",
    "                          conv_expansion_factor = 2,\n",
    "                          conv_kernel_size = 5,\n",
    "                          attn_dropout = 0.1,\n",
    "                          ff_dropout = 0.2,\n",
    "                          conv_dropout = 0.05,\n",
    "                          causal = False))\n",
    "        self.fc = nn.Sequential(nn.Linear(DIM,DIM),nn.Mish(),nn.Linear(DIM,950))\n",
    "        \n",
    "    def forward(self, X):\n",
    "        #(B,L,C)\n",
    "        pos = X[:,:,-1]\n",
    "        X_dense = self.input_layer(X[:,:,1:])\n",
    "        X = torch.cat([X_dense, self.emb_RC(X[:,:,0].long())],dim=-1)\n",
    "        X = self.scale_layer(X)\n",
    "        for layer in self.encoder:\n",
    "            X = layer(X,pos)\n",
    "        y = self.fc(X)\n",
    "        return y"
   ]
  },
  {
   "cell_type": "code",
   "execution_count": 16,
   "metadata": {},
   "outputs": [
    {
     "name": "stdout",
     "output_type": "stream",
     "text": [
      "fold: 0\n",
      "fold 0, score: 0.1420778559669055\n",
      "fold: 1\n",
      "fold 1, score: 0.1386840213427894\n",
      "fold: 2\n",
      "fold 2, score: 0.139729647541404\n",
      "fold: 3\n",
      "fold 3, score: 0.1389837594911228\n",
      "fold: 4\n",
      "fold 4, score: 0.1429318176443991\n",
      "CV score: 0.14048080780127353\n"
     ]
    }
   ],
   "source": [
    "# N_EPOCHS = 300\n",
    "# N_FOLDS = 5\n",
    "# BATCH_SIZE = 64\n",
    "# oof_path = f\"oofs/oof_{MODEL_NAME}\"\n",
    "# device = torch.device('cuda:1')\n",
    "# kf = StratifiedKFold(N_FOLDS,shuffle=True, random_state=42)\n",
    "# test_dataset = TensorDataset(torch.Tensor(X_test))\n",
    "# test_dataloader = DataLoader(test_dataset, batch_size=3*BATCH_SIZE, shuffle=False, drop_last=False, num_workers=0)\n",
    "# oof = np.zeros(y_tr.shape)\n",
    "# y_true = le.inverse_transform(y_tr.reshape(-1)).reshape(y_tr.shape)\n",
    "# test_pred = np.zeros([len(X_test),y_tr.shape[1],950])\n",
    "# for fold, (train_index, val_index) in enumerate(kf.split(X_tr[:,0,0], X_tr[:,0,0])):\n",
    "#     print(\"fold:\",fold)\n",
    "#     model_path = f'models/{MODEL_NAME}/model_{fold}.pt'\n",
    "#     train_dataset = TensorDataset(torch.Tensor(X_tr[train_index]),torch.Tensor(y_tr[train_index]))\n",
    "#     val_dataset = TensorDataset(torch.Tensor(X_tr[val_index]),torch.Tensor(y_tr[val_index]))\n",
    "#     train_dataloader = DataLoader(train_dataset, batch_size=BATCH_SIZE, shuffle=True, drop_last=True, num_workers=0)\n",
    "#     val_dataloader = DataLoader(val_dataset, batch_size=3*BATCH_SIZE, shuffle=False, drop_last=False, num_workers=0)\n",
    "#     model = BrainModel().to(device)\n",
    "#     model.load_state_dict(torch.load(model_path))\n",
    "#     val_pred = inference(model, val_dataloader, device, False)\n",
    "#     oof[val_index] = val_pred\n",
    "#     test_pred += inference(model, test_dataloader, device, True)\n",
    "#     mask = X_tr[val_index,:,2]==0\n",
    "#     print(f\"fold {fold}, score:\",mean_absolute_error(y_true[val_index][mask], oof[val_index][mask]))\n",
    "# mask = X_tr[:,:,2]==0\n",
    "# print(\"CV score:\",mean_absolute_error(y_true[mask][oof[mask]!=0], oof[mask][oof[mask]!=0]))\n",
    "# test_pred = test_pred.argmax(-1)\n",
    "# test_pred = le.inverse_transform(test_pred.reshape(-1)).reshape(test_pred.shape)\n",
    "# np.save(oof_path,oof)"
   ]
  },
  {
   "cell_type": "code",
   "execution_count": 17,
   "metadata": {},
   "outputs": [],
   "source": [
    "# if not DEBUG:\n",
    "#     sub_path = f\"subs/submission_logits_{MODEL_NAME}.csv\"\n",
    "#     sub = pd.read_csv(base_dir+\"sample_submission.csv\")\n",
    "#     sub['pressure'] = test_pred.reshape(-1)\n",
    "#     sub.to_csv(sub_path,index=False)"
   ]
  },
  {
   "cell_type": "code",
   "execution_count": 16,
   "metadata": {
    "execution": {
     "iopub.execute_input": "2021-10-13T04:18:10.562898Z",
     "iopub.status.busy": "2021-10-13T04:18:10.557434Z",
     "iopub.status.idle": "2021-10-13T13:02:23.401088Z",
     "shell.execute_reply": "2021-10-13T13:02:23.399054Z"
    },
    "id": "zHGGP6fbfKSv",
    "outputId": "1271a4dd-a37e-4b4d-b314-832921640556",
    "papermill": {
     "duration": 31452.86825,
     "end_time": "2021-10-13T13:02:23.401227",
     "exception": false,
     "start_time": "2021-10-13T04:18:10.532977",
     "status": "completed"
    },
    "scrolled": true,
    "tags": []
   },
   "outputs": [
    {
     "name": "stdout",
     "output_type": "stream",
     "text": [
      "fold: 0\n"
     ]
    },
    {
     "data": {
      "application/vnd.jupyter.widget-view+json": {
       "model_id": "c7caa1fd393c42938a9f2e4d4c944f17",
       "version_major": 2,
       "version_minor": 0
      },
      "text/plain": [
       "HBox(children=(FloatProgress(value=0.0, max=9.0), HTML(value='')))"
      ]
     },
     "metadata": {},
     "output_type": "display_data"
    },
    {
     "name": "stdout",
     "output_type": "stream",
     "text": [
      "\n",
      "fold 0, score: 0.13952747260305273\n",
      "fold: 1\n"
     ]
    },
    {
     "data": {
      "application/vnd.jupyter.widget-view+json": {
       "model_id": "47ef3fb03d2a4fa89330d592003479a4",
       "version_major": 2,
       "version_minor": 0
      },
      "text/plain": [
       "HBox(children=(FloatProgress(value=0.0, max=9.0), HTML(value='')))"
      ]
     },
     "metadata": {},
     "output_type": "display_data"
    },
    {
     "name": "stdout",
     "output_type": "stream",
     "text": [
      "\n",
      "fold 1, score: 0.13633791152930647\n",
      "fold: 2\n"
     ]
    },
    {
     "data": {
      "application/vnd.jupyter.widget-view+json": {
       "model_id": "b15b0feab9b549be87d4ca34bc56bc97",
       "version_major": 2,
       "version_minor": 0
      },
      "text/plain": [
       "HBox(children=(FloatProgress(value=0.0, max=9.0), HTML(value='')))"
      ]
     },
     "metadata": {},
     "output_type": "display_data"
    },
    {
     "name": "stdout",
     "output_type": "stream",
     "text": [
      "\n",
      "fold 2, score: 0.13688889797250622\n",
      "fold: 3\n"
     ]
    },
    {
     "data": {
      "application/vnd.jupyter.widget-view+json": {
       "model_id": "6048b72050124c8fa7ba73924503a439",
       "version_major": 2,
       "version_minor": 0
      },
      "text/plain": [
       "HBox(children=(FloatProgress(value=0.0, max=9.0), HTML(value='')))"
      ]
     },
     "metadata": {},
     "output_type": "display_data"
    },
    {
     "name": "stdout",
     "output_type": "stream",
     "text": [
      "\n",
      "fold 3, score: 0.1368432903358686\n",
      "fold: 4\n"
     ]
    },
    {
     "data": {
      "application/vnd.jupyter.widget-view+json": {
       "model_id": "e79f05a20adf46499778f4014c6f6951",
       "version_major": 2,
       "version_minor": 0
      },
      "text/plain": [
       "HBox(children=(FloatProgress(value=0.0, max=9.0), HTML(value='')))"
      ]
     },
     "metadata": {},
     "output_type": "display_data"
    },
    {
     "name": "stdout",
     "output_type": "stream",
     "text": [
      "\n",
      "fold 4, score: 0.1407616392015034\n",
      "CV score: 0.13807126093594196\n"
     ]
    }
   ],
   "source": [
    "N_EPOCHS = 300\n",
    "N_FOLDS = 5\n",
    "BATCH_SIZE = 64\n",
    "oof_path = f\"oofs/oof_finetune_{MODEL_NAME}\"\n",
    "device = torch.device('cuda:1')\n",
    "kf = StratifiedKFold(N_FOLDS,shuffle=True, random_state=42)\n",
    "oof = np.zeros(y_tr.shape)\n",
    "y_true = le.inverse_transform(y_tr.reshape(-1)).reshape(y_tr.shape)\n",
    "test_pred = np.zeros([len(X_test),y_tr.shape[1],950])\n",
    "for fold, (train_index, val_index) in enumerate(kf.split(X_tr[:,0,0], X_tr[:,0,0])):\n",
    "    print(\"fold:\",fold)\n",
    "    for RC in tqdm(range(9)):\n",
    "        model_path = f'models/{MODEL_NAME}/model_{fold}_RC_{RC}.pt'\n",
    "        \n",
    "        val_idx = np.intersect1d(val_index,np.where(X_tr[:,0,0]==RC))\n",
    "        test_idx = X_test[:,0,0]==RC\n",
    "        \n",
    "        val_dataset = TensorDataset(torch.Tensor(X_tr[val_idx]),torch.Tensor(y_tr[val_idx]))\n",
    "        test_dataset = TensorDataset(torch.Tensor(X_test[test_idx]))\n",
    "        val_dataloader = DataLoader(val_dataset, batch_size=3*BATCH_SIZE, shuffle=False, drop_last=False, num_workers=0)\n",
    "        test_dataloader = DataLoader(test_dataset, batch_size=3*BATCH_SIZE, shuffle=False, drop_last=False, num_workers=0)\n",
    "        \n",
    "        model = BrainModel().to(device)\n",
    "        model.load_state_dict(torch.load(model_path))\n",
    "        \n",
    "        val_pred = inference(model, val_dataloader, device, False)\n",
    "        oof[val_idx] = val_pred        \n",
    "        test_pred[test_idx] += inference(model, test_dataloader, device, True)\n",
    "    mask = X_tr[val_index,:,2]==0\n",
    "    print(f\"fold {fold}, score:\",mean_absolute_error(y_true[val_index][mask], oof[val_index][mask]))\n",
    "mask = X_tr[:,:,2]==0\n",
    "print(\"CV score:\",mean_absolute_error(y_true[mask][oof[mask]!=0], oof[mask][oof[mask]!=0]))\n",
    "np.save(oof_path,oof)\n",
    "test_pred = test_pred.argmax(-1)\n",
    "test_pred = le.inverse_transform(test_pred.reshape(-1)).reshape(test_pred.shape)"
   ]
  },
  {
   "cell_type": "code",
   "execution_count": 17,
   "metadata": {},
   "outputs": [],
   "source": [
    "if not DEBUG:\n",
    "    sub_path = f\"subs/submission_finetune_logits_{MODEL_NAME}.csv\"\n",
    "    sub = pd.read_csv(base_dir+\"sample_submission.csv\")\n",
    "    sub['pressure'] = test_pred.reshape(-1)\n",
    "    sub.to_csv(sub_path,index=False)"
   ]
  },
  {
   "cell_type": "code",
   "execution_count": null,
   "metadata": {},
   "outputs": [],
   "source": []
  }
 ],
 "metadata": {
  "kernelspec": {
   "display_name": "Python [conda env:.conda-pytorch15]",
   "language": "python",
   "name": "conda-env-.conda-pytorch15-py"
  },
  "language_info": {
   "codemirror_mode": {
    "name": "ipython",
    "version": 3
   },
   "file_extension": ".py",
   "mimetype": "text/x-python",
   "name": "python",
   "nbconvert_exporter": "python",
   "pygments_lexer": "ipython3",
   "version": "3.7.7"
  },
  "papermill": {
   "default_parameters": {},
   "duration": 31610.007673,
   "end_time": "2021-10-13T13:02:25.335355",
   "environment_variables": {},
   "exception": null,
   "input_path": "__notebook__.ipynb",
   "output_path": "__notebook__.ipynb",
   "parameters": {},
   "start_time": "2021-10-13T04:15:35.327682",
   "version": "2.3.3"
  },
  "widgets": {
   "application/vnd.jupyter.widget-state+json": {
    "state": {
     "12a4846039954478b23397922ba2e7a2": {
      "model_module": "@jupyter-widgets/controls",
      "model_module_version": "1.5.0",
      "model_name": "FloatProgressModel",
      "state": {
       "_dom_classes": [],
       "_model_module": "@jupyter-widgets/controls",
       "_model_module_version": "1.5.0",
       "_model_name": "FloatProgressModel",
       "_view_count": null,
       "_view_module": "@jupyter-widgets/controls",
       "_view_module_version": "1.5.0",
       "_view_name": "ProgressView",
       "bar_style": "",
       "description": "",
       "description_tooltip": null,
       "layout": "IPY_MODEL_64b71c2ec725460c9d97dea18c1b8221",
       "max": 300,
       "min": 0,
       "orientation": "horizontal",
       "style": "IPY_MODEL_7953bfe3acad4a50b5f687991211d2bc",
       "value": 300
      }
     },
     "4927652eb1c346fa84a78d6c5e045622": {
      "model_module": "@jupyter-widgets/controls",
      "model_module_version": "1.5.0",
      "model_name": "DescriptionStyleModel",
      "state": {
       "_model_module": "@jupyter-widgets/controls",
       "_model_module_version": "1.5.0",
       "_model_name": "DescriptionStyleModel",
       "_view_count": null,
       "_view_module": "@jupyter-widgets/base",
       "_view_module_version": "1.2.0",
       "_view_name": "StyleView",
       "description_width": ""
      }
     },
     "504ef3b85c1c4688bc53a334675aa601": {
      "model_module": "@jupyter-widgets/controls",
      "model_module_version": "1.5.0",
      "model_name": "HTMLModel",
      "state": {
       "_dom_classes": [],
       "_model_module": "@jupyter-widgets/controls",
       "_model_module_version": "1.5.0",
       "_model_name": "HTMLModel",
       "_view_count": null,
       "_view_module": "@jupyter-widgets/controls",
       "_view_module_version": "1.5.0",
       "_view_name": "HTMLView",
       "description": "",
       "description_tooltip": null,
       "layout": "IPY_MODEL_f594d87f3fb741b8a87da31348a174da",
       "placeholder": "​",
       "style": "IPY_MODEL_ec150678fe7a4cf98a1a68ccd5409338",
       "value": "100%"
      }
     },
     "575472c0debb49129fb32c54a9289a01": {
      "model_module": "@jupyter-widgets/controls",
      "model_module_version": "1.5.0",
      "model_name": "HBoxModel",
      "state": {
       "_dom_classes": [],
       "_model_module": "@jupyter-widgets/controls",
       "_model_module_version": "1.5.0",
       "_model_name": "HBoxModel",
       "_view_count": null,
       "_view_module": "@jupyter-widgets/controls",
       "_view_module_version": "1.5.0",
       "_view_name": "HBoxView",
       "box_style": "",
       "children": [
        "IPY_MODEL_504ef3b85c1c4688bc53a334675aa601",
        "IPY_MODEL_12a4846039954478b23397922ba2e7a2",
        "IPY_MODEL_f6679feabe7341e19bce028fd9597ebd"
       ],
       "layout": "IPY_MODEL_a561495982104452b7b4ba9fdd176a37"
      }
     },
     "5b660f1a714a4a8a8e2f2aefcd060220": {
      "model_module": "@jupyter-widgets/base",
      "model_module_version": "1.2.0",
      "model_name": "LayoutModel",
      "state": {
       "_model_module": "@jupyter-widgets/base",
       "_model_module_version": "1.2.0",
       "_model_name": "LayoutModel",
       "_view_count": null,
       "_view_module": "@jupyter-widgets/base",
       "_view_module_version": "1.2.0",
       "_view_name": "LayoutView",
       "align_content": null,
       "align_items": null,
       "align_self": null,
       "border": null,
       "bottom": null,
       "display": null,
       "flex": null,
       "flex_flow": null,
       "grid_area": null,
       "grid_auto_columns": null,
       "grid_auto_flow": null,
       "grid_auto_rows": null,
       "grid_column": null,
       "grid_gap": null,
       "grid_row": null,
       "grid_template_areas": null,
       "grid_template_columns": null,
       "grid_template_rows": null,
       "height": null,
       "justify_content": null,
       "justify_items": null,
       "left": null,
       "margin": null,
       "max_height": null,
       "max_width": null,
       "min_height": null,
       "min_width": null,
       "object_fit": null,
       "object_position": null,
       "order": null,
       "overflow": null,
       "overflow_x": null,
       "overflow_y": null,
       "padding": null,
       "right": null,
       "top": null,
       "visibility": null,
       "width": null
      }
     },
     "64b71c2ec725460c9d97dea18c1b8221": {
      "model_module": "@jupyter-widgets/base",
      "model_module_version": "1.2.0",
      "model_name": "LayoutModel",
      "state": {
       "_model_module": "@jupyter-widgets/base",
       "_model_module_version": "1.2.0",
       "_model_name": "LayoutModel",
       "_view_count": null,
       "_view_module": "@jupyter-widgets/base",
       "_view_module_version": "1.2.0",
       "_view_name": "LayoutView",
       "align_content": null,
       "align_items": null,
       "align_self": null,
       "border": null,
       "bottom": null,
       "display": null,
       "flex": null,
       "flex_flow": null,
       "grid_area": null,
       "grid_auto_columns": null,
       "grid_auto_flow": null,
       "grid_auto_rows": null,
       "grid_column": null,
       "grid_gap": null,
       "grid_row": null,
       "grid_template_areas": null,
       "grid_template_columns": null,
       "grid_template_rows": null,
       "height": null,
       "justify_content": null,
       "justify_items": null,
       "left": null,
       "margin": null,
       "max_height": null,
       "max_width": null,
       "min_height": null,
       "min_width": null,
       "object_fit": null,
       "object_position": null,
       "order": null,
       "overflow": null,
       "overflow_x": null,
       "overflow_y": null,
       "padding": null,
       "right": null,
       "top": null,
       "visibility": null,
       "width": null
      }
     },
     "7953bfe3acad4a50b5f687991211d2bc": {
      "model_module": "@jupyter-widgets/controls",
      "model_module_version": "1.5.0",
      "model_name": "ProgressStyleModel",
      "state": {
       "_model_module": "@jupyter-widgets/controls",
       "_model_module_version": "1.5.0",
       "_model_name": "ProgressStyleModel",
       "_view_count": null,
       "_view_module": "@jupyter-widgets/base",
       "_view_module_version": "1.2.0",
       "_view_name": "StyleView",
       "bar_color": null,
       "description_width": ""
      }
     },
     "a561495982104452b7b4ba9fdd176a37": {
      "model_module": "@jupyter-widgets/base",
      "model_module_version": "1.2.0",
      "model_name": "LayoutModel",
      "state": {
       "_model_module": "@jupyter-widgets/base",
       "_model_module_version": "1.2.0",
       "_model_name": "LayoutModel",
       "_view_count": null,
       "_view_module": "@jupyter-widgets/base",
       "_view_module_version": "1.2.0",
       "_view_name": "LayoutView",
       "align_content": null,
       "align_items": null,
       "align_self": null,
       "border": null,
       "bottom": null,
       "display": null,
       "flex": null,
       "flex_flow": null,
       "grid_area": null,
       "grid_auto_columns": null,
       "grid_auto_flow": null,
       "grid_auto_rows": null,
       "grid_column": null,
       "grid_gap": null,
       "grid_row": null,
       "grid_template_areas": null,
       "grid_template_columns": null,
       "grid_template_rows": null,
       "height": null,
       "justify_content": null,
       "justify_items": null,
       "left": null,
       "margin": null,
       "max_height": null,
       "max_width": null,
       "min_height": null,
       "min_width": null,
       "object_fit": null,
       "object_position": null,
       "order": null,
       "overflow": null,
       "overflow_x": null,
       "overflow_y": null,
       "padding": null,
       "right": null,
       "top": null,
       "visibility": null,
       "width": null
      }
     },
     "ec150678fe7a4cf98a1a68ccd5409338": {
      "model_module": "@jupyter-widgets/controls",
      "model_module_version": "1.5.0",
      "model_name": "DescriptionStyleModel",
      "state": {
       "_model_module": "@jupyter-widgets/controls",
       "_model_module_version": "1.5.0",
       "_model_name": "DescriptionStyleModel",
       "_view_count": null,
       "_view_module": "@jupyter-widgets/base",
       "_view_module_version": "1.2.0",
       "_view_name": "StyleView",
       "description_width": ""
      }
     },
     "f594d87f3fb741b8a87da31348a174da": {
      "model_module": "@jupyter-widgets/base",
      "model_module_version": "1.2.0",
      "model_name": "LayoutModel",
      "state": {
       "_model_module": "@jupyter-widgets/base",
       "_model_module_version": "1.2.0",
       "_model_name": "LayoutModel",
       "_view_count": null,
       "_view_module": "@jupyter-widgets/base",
       "_view_module_version": "1.2.0",
       "_view_name": "LayoutView",
       "align_content": null,
       "align_items": null,
       "align_self": null,
       "border": null,
       "bottom": null,
       "display": null,
       "flex": null,
       "flex_flow": null,
       "grid_area": null,
       "grid_auto_columns": null,
       "grid_auto_flow": null,
       "grid_auto_rows": null,
       "grid_column": null,
       "grid_gap": null,
       "grid_row": null,
       "grid_template_areas": null,
       "grid_template_columns": null,
       "grid_template_rows": null,
       "height": null,
       "justify_content": null,
       "justify_items": null,
       "left": null,
       "margin": null,
       "max_height": null,
       "max_width": null,
       "min_height": null,
       "min_width": null,
       "object_fit": null,
       "object_position": null,
       "order": null,
       "overflow": null,
       "overflow_x": null,
       "overflow_y": null,
       "padding": null,
       "right": null,
       "top": null,
       "visibility": null,
       "width": null
      }
     },
     "f6679feabe7341e19bce028fd9597ebd": {
      "model_module": "@jupyter-widgets/controls",
      "model_module_version": "1.5.0",
      "model_name": "HTMLModel",
      "state": {
       "_dom_classes": [],
       "_model_module": "@jupyter-widgets/controls",
       "_model_module_version": "1.5.0",
       "_model_name": "HTMLModel",
       "_view_count": null,
       "_view_module": "@jupyter-widgets/controls",
       "_view_module_version": "1.5.0",
       "_view_name": "HTMLView",
       "description": "",
       "description_tooltip": null,
       "layout": "IPY_MODEL_5b660f1a714a4a8a8e2f2aefcd060220",
       "placeholder": "​",
       "style": "IPY_MODEL_4927652eb1c346fa84a78d6c5e045622",
       "value": " 300/300 [8:44:09&lt;00:00, 104.89s/it]"
      }
     }
    },
    "version_major": 2,
    "version_minor": 0
   }
  }
 },
 "nbformat": 4,
 "nbformat_minor": 5
}
